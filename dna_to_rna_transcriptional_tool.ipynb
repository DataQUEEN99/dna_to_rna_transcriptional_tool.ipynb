{
  "nbformat": 4,
  "nbformat_minor": 0,
  "metadata": {
    "colab": {
      "provenance": []
    },
    "kernelspec": {
      "name": "python3",
      "display_name": "Python 3"
    },
    "language_info": {
      "name": "python"
    }
  },
  "cells": [
    {
      "cell_type": "code",
      "execution_count": 1,
      "metadata": {
        "colab": {
          "base_uri": "https://localhost:8080/"
        },
        "id": "xtrXUEtVfGep",
        "outputId": "1e8a98e8-a55d-49c0-ef06-a8d4b6ccd7a0"
      },
      "outputs": [
        {
          "output_type": "stream",
          "name": "stdout",
          "text": [
            "Enter a DNA sequence: ATGC\n",
            "\n",
            "✅ DNA to RNA Transcription Complete!\n",
            "Original DNA: ATGC\n",
            "Transcribed RNA: AUGC\n",
            "\n",
            "🧾 Nucleotide Counts:\n",
            "A: 1\n",
            "T: 1\n",
            "G: 1\n",
            "C: 1\n"
          ]
        }
      ],
      "source": [
        "# dna_rna_tool.py\n",
        "\n",
        "def validate_dna(seq):\n",
        "    \"\"\"Check if the sequence contains only valid DNA nucleotides.\"\"\"\n",
        "    valid = {\"A\", \"T\", \"G\", \"C\"}\n",
        "    return all(base in valid for base in seq.upper())\n",
        "\n",
        "def transcribe_dna_to_rna(dna_seq):\n",
        "    \"\"\"Transcribe DNA into RNA by replacing T with U.\"\"\"\n",
        "    return dna_seq.upper().replace(\"T\", \"U\")\n",
        "\n",
        "def count_nucleotides(seq):\n",
        "    \"\"\"Count the number of each nucleotide in the sequence.\"\"\"\n",
        "    seq = seq.upper()\n",
        "    return {\n",
        "        \"A\": seq.count(\"A\"),\n",
        "        \"T\": seq.count(\"T\"),\n",
        "        \"G\": seq.count(\"G\"),\n",
        "        \"C\": seq.count(\"C\")\n",
        "    }\n",
        "\n",
        "def main():\n",
        "    dna = input(\"Enter a DNA sequence: \").strip()\n",
        "    if not validate_dna(dna):\n",
        "        print(\"Invalid DNA sequence. Please enter only A, T, G, and C.\")\n",
        "        return\n",
        "\n",
        "    rna = transcribe_dna_to_rna(dna)\n",
        "    counts = count_nucleotides(dna)\n",
        "\n",
        "    print(\"\\n✅ DNA to RNA Transcription Complete!\")\n",
        "    print(f\"Original DNA: {dna}\")\n",
        "    print(f\"Transcribed RNA: {rna}\")\n",
        "    print(\"\\n🧾 Nucleotide Counts:\")\n",
        "    for base, count in counts.items():\n",
        "        print(f\"{base}: {count}\")\n",
        "\n",
        "# Run the main function\n",
        "if __name__ == \"__main__\":\n",
        "    main()"
      ]
    }
  ]
}